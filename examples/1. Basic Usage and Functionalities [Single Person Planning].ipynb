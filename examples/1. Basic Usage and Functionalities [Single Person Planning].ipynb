{
 "cells": [
  {
   "cell_type": "markdown",
   "id": "19f43126",
   "metadata": {},
   "source": [
    "<h1 align = \"center\">Auto-Holidays and Vacation Plan Optimizer</h1>\n",
    "\n",
    "---\n",
    "\n",
    "Let the algorithms decide the best optimal days to take holiday breaks from the hustle and bustle of the professional life. The python [**`auto-holidays`**](https://pypi.org/project/auto-holidays) package can be used to find the best possible solution for a single or a group of people considering entitled leave days and weekly off by finding the best possible buckets with the least number of leaves to avail to plan vacations. The extensive advanced uses-cases, like prioritizing certain days of a year, defning and customizing different types of leaves, rolling applicable leaves to a next cycle to find an alternate and better holiday (longer duration) etc. are developed. This *is just the tip of the iceberg*, explore more or send a PR/issue request on [GitHub](https://github.com/ZenithClown/auto-holidays) to collaborate and build something amazing."
   ]
  },
  {
   "cell_type": "code",
   "execution_count": 1,
   "id": "2f803ef5",
   "metadata": {
    "ExecuteTime": {
     "end_time": "2025-05-16T07:09:14.986876Z",
     "start_time": "2025-05-16T07:09:14.954821Z"
    }
   },
   "outputs": [],
   "source": [
    "import os\n",
    "import sys"
   ]
  },
  {
   "cell_type": "code",
   "execution_count": 2,
   "id": "17b39a07",
   "metadata": {
    "ExecuteTime": {
     "end_time": "2025-05-16T07:09:15.002661Z",
     "start_time": "2025-05-16T07:09:14.990681Z"
    }
   },
   "outputs": [],
   "source": [
    "import json"
   ]
  },
  {
   "cell_type": "code",
   "execution_count": 3,
   "id": "cfd3d56a",
   "metadata": {
    "ExecuteTime": {
     "end_time": "2025-05-16T07:09:15.018760Z",
     "start_time": "2025-05-16T07:09:15.006673Z"
    }
   },
   "outputs": [],
   "source": [
    "import datetime as dt"
   ]
  },
  {
   "cell_type": "code",
   "execution_count": 4,
   "id": "940154e0",
   "metadata": {
    "ExecuteTime": {
     "end_time": "2025-05-16T07:09:15.509505Z",
     "start_time": "2025-05-16T07:09:15.022664Z"
    }
   },
   "outputs": [],
   "source": [
    "sys.path.append(os.path.join(os.path.dirname(\"__name__\"), \"..\"))\n",
    "import autoholidays as ah # package in repository root, append to path"
   ]
  },
  {
   "cell_type": "markdown",
   "id": "1f7053e8",
   "metadata": {},
   "source": [
    "## Leaves Models\n",
    "\n",
    "The module provides the ability to define different types of leaves, and compulsory week-off for a person. The class are `pydantic` base models with validations to prevent abnormal values. Check the documentations for more information about the models. The following types of leaves are available to be defined:\n",
    "\n",
    "  * **`ah.utils.leaves.CompWeeklyLeave`**: A compulsory weekly-off that is available to a person (typically, Saturday and Sunday). The model also provides advanced configuration - like setting alternate day (example every alternate Saturday) as a holiday, and\n",
    "  * **`ah.utils.leaves.CustomLeaves`**:A generic model that can be used to define any type of custom holidays - paid/earned/sick/optional/casual/etc. leave with various different types of constraints and controls for more advanced usages - like defining the cycle, maximum balance that can be carry forwarded, etc."
   ]
  },
  {
   "cell_type": "code",
   "execution_count": 5,
   "id": "92d0624f",
   "metadata": {
    "ExecuteTime": {
     "end_time": "2025-05-16T07:09:15.525511Z",
     "start_time": "2025-05-16T07:09:15.511505Z"
    }
   },
   "outputs": [],
   "source": [
    "# let's define a custom leave - paid leave which has\n",
    "#   > a max. balance of 60 in a year,\n",
    "#   > with an addition of 21 PL at the start of a year, and\n",
    "#   > only 12 value can be carry forwarded into the next cycle\n",
    "paid_leave = ah.utils.leaves.CustomLeaves(\n",
    "    name = \"Paid Leave\",\n",
    "    max_balance = 60,\n",
    "\n",
    "    n_credit_md = [ah.utils.calender.MonthDayConstruct(day = 1, month = 4)],  # only credited once a year\n",
    "    n_expiry_md = [ah.utils.calender.MonthDayConstruct(day = 31, month = 3)], # any excess expires only once a year\n",
    "\n",
    "    n_credit_balance = [21],                                                  # for each credit days, no. of balance credited\n",
    "    carry_forward_balance = 12,                                               # a max. of 12 pl can be carry forwarded in next cycle\n",
    "\n",
    "    constraints = ah.utils.leaves.CustomLeaveConstraint(\n",
    "        avail_limit = ah.utils.leaves.LRBoundary(min_value = 4),\n",
    "        avail_limit_per_cycle = ah.utils.leaves.LRBoundary(max_value = 3),\n",
    "    )\n",
    ")"
   ]
  },
  {
   "cell_type": "code",
   "execution_count": 6,
   "id": "abb350c1",
   "metadata": {
    "ExecuteTime": {
     "end_time": "2025-05-16T07:09:15.541615Z",
     "start_time": "2025-05-16T07:09:15.528505Z"
    }
   },
   "outputs": [],
   "source": [
    "# let's define a custom leave - paid leave which has\n",
    "#   > a max. balance of 9 in a year,\n",
    "#   > with an addition of 9 CL at the start of a year, and\n",
    "#   > and none can be carry forwarded onto the next cycle\n",
    "casual_leave = ah.utils.leaves.CustomLeaves(\n",
    "    name = \"Casual Leave\",\n",
    "    max_balance = 9,\n",
    "\n",
    "    n_credit_md = [ah.utils.calender.MonthDayConstruct(day = 1, month = 4)],  # only credited once a year\n",
    "    n_expiry_md = [ah.utils.calender.MonthDayConstruct(day = 31, month = 3)], # any excess expires only once a year\n",
    "\n",
    "    n_credit_balance = [9],                                                   # for each credit days, no. of balance credited\n",
    "    carry_forward_balance = 0,                                                # a max. of 12 pl can be carry forwarded in next cycle\n",
    "\n",
    "    constraints = ah.utils.leaves.CustomLeaveConstraint(\n",
    "        avail_limit = ah.utils.leaves.LRBoundary(max_value = 3),\n",
    "    )\n",
    ")"
   ]
  },
  {
   "cell_type": "markdown",
   "id": "16586d58",
   "metadata": {},
   "source": [
    "### Paid Holidays\n",
    "\n",
    "A paid holiday is any day of a year (static) which is available to a person (typically, state wise holiday varies between organizations). We can define all the available paid holidays for the current planning cycle - this should be a static value (and can have additional property like `name`, and `priority`). Due to the nature, the dynamic property is not applicable and tracking/storing is out of the scope of this module."
   ]
  },
  {
   "cell_type": "code",
   "execution_count": 7,
   "id": "cdf53ddb",
   "metadata": {
    "ExecuteTime": {
     "end_time": "2025-05-16T07:09:15.556988Z",
     "start_time": "2025-05-16T07:09:15.543841Z"
    }
   },
   "outputs": [],
   "source": [
    "paid_holidays = [\n",
    "    ah.utils.holidays.HolidayConstruct(\n",
    "        date = dt.date(2025, 5, 1),\n",
    "        name = \"Maharashtra Day\"\n",
    "    ),\n",
    "    ah.utils.holidays.HolidayConstruct(\n",
    "        date = dt.date(2025, 8, 15),\n",
    "        name = \"Independence Day\"\n",
    "    ),\n",
    "    ah.utils.holidays.HolidayConstruct(\n",
    "        date = dt.date(2025, 8, 27),\n",
    "        name = \"Ganesh Chaturthi\"\n",
    "    ),\n",
    "    ah.utils.holidays.HolidayConstruct(\n",
    "        date = dt.date(2025, 10, 2),\n",
    "        name = \"Gandhi Jayanti\"\n",
    "    ),\n",
    "    ah.utils.holidays.HolidayConstruct(\n",
    "        date = dt.date(2025, 10, 20),\n",
    "        name = \"Kali Puja\"\n",
    "    ),\n",
    "    ah.utils.holidays.HolidayConstruct(\n",
    "        date = dt.date(2025, 10, 21),\n",
    "        name = \"Diwali Holiday\"\n",
    "    ),\n",
    "    ah.utils.holidays.HolidayConstruct(\n",
    "        date = dt.date(2025, 12, 25),\n",
    "        name = \"Christmas Holiday\"\n",
    "    ),\n",
    "    ah.utils.holidays.HolidayConstruct(\n",
    "        date = dt.date(2026, 1, 1),\n",
    "        name = \"New Year's Day\"\n",
    "    ),\n",
    "    ah.utils.holidays.HolidayConstruct(\n",
    "        date = dt.date(2026, 1, 26),\n",
    "        name = \"Republic Day\"\n",
    "    ),\n",
    "    ah.utils.holidays.HolidayConstruct(\n",
    "        date = dt.date(2026, 3, 4),\n",
    "        name = \"Holi Day\"\n",
    "    ),\n",
    "]"
   ]
  },
  {
   "cell_type": "markdown",
   "id": "f9b5101d",
   "metadata": {},
   "source": [
    "## Leave Planner"
   ]
  },
  {
   "cell_type": "code",
   "execution_count": 8,
   "id": "5d723e95",
   "metadata": {
    "ExecuteTime": {
     "end_time": "2025-05-16T07:09:15.572996Z",
     "start_time": "2025-05-16T07:09:15.559986Z"
    }
   },
   "outputs": [],
   "source": [
    "planner = ah.core.planner.LeavePlanner(\n",
    "    period = ah.utils.calender.AnyCycle(\n",
    "        s = ah.utils.calender.MonthDayConstruct(day = 1, month = 4),\n",
    "        e = ah.utils.calender.MonthDayConstruct(day = 31, month = 3)\n",
    "    ),\n",
    "    persons = [\n",
    "        ah.utils.person.PersonConstruct(\n",
    "            name = \"John Doe\",\n",
    "            cycle = ah.utils.calender.AnyCycle(\n",
    "                s = ah.utils.calender.MonthDayConstruct(day = 1, month = 4),\n",
    "                e = ah.utils.calender.MonthDayConstruct(day = 31, month = 3)\n",
    "            ),\n",
    "            custom_leaves = [paid_leave, casual_leave], additional_holidays = paid_holidays\n",
    "        )\n",
    "    ]\n",
    ")"
   ]
  },
  {
   "cell_type": "markdown",
   "id": "1a573d0f",
   "metadata": {},
   "source": [
    "### Paid Holidays"
   ]
  },
  {
   "cell_type": "code",
   "execution_count": 16,
   "id": "f5a375f3",
   "metadata": {
    "ExecuteTime": {
     "end_time": "2025-05-16T07:12:05.859122Z",
     "start_time": "2025-05-16T07:12:05.835118Z"
    }
   },
   "outputs": [
    {
     "data": {
      "text/plain": [
       "{'John Doe': {'total': 114, 'ratio': 0.31319}}"
      ]
     },
     "execution_count": 16,
     "metadata": {},
     "output_type": "execute_result"
    }
   ],
   "source": [
    "planner.verbose_paid_holidays # no. of paid holidays, ratio/percentage of paid holidays in the planning cycle"
   ]
  },
  {
   "cell_type": "markdown",
   "id": "4a720975",
   "metadata": {},
   "source": [
    "### Long/Extended Weekends Finder"
   ]
  },
  {
   "cell_type": "code",
   "execution_count": 17,
   "id": "814e2f0a",
   "metadata": {
    "ExecuteTime": {
     "end_time": "2025-05-16T07:12:07.315438Z",
     "start_time": "2025-05-16T07:12:07.308436Z"
    }
   },
   "outputs": [
    {
     "name": "stdout",
     "output_type": "stream",
     "text": [
      "VERBOSE: Long Weekend(John Doe)\n",
      "  >> No. of Long Weekends = 54\n",
      "  >> #LW (#Days >= 3) = 7\n"
     ]
    }
   ],
   "source": [
    "lw = planner.long_weekends(tolerance = 1, min_count = 3) # in-between 1-day tolerance, no. of days >= 3"
   ]
  },
  {
   "cell_type": "code",
   "execution_count": 14,
   "id": "76776166",
   "metadata": {
    "ExecuteTime": {
     "end_time": "2025-05-16T07:12:01.051323Z",
     "start_time": "2025-05-16T07:12:01.032645Z"
    }
   },
   "outputs": [
    {
     "name": "stdout",
     "output_type": "stream",
     "text": [
      "{\n",
      "  \"VACATION #005\": {\n",
      "    \"start\": \"2025-05-01\",\n",
      "    \"end\": \"2025-05-04\",\n",
      "    \"duration\": 4,\n",
      "    \"values\": null\n",
      "  },\n",
      "  \"VACATION #020\": {\n",
      "    \"start\": \"2025-08-15\",\n",
      "    \"end\": \"2025-08-17\",\n",
      "    \"duration\": 3,\n",
      "    \"values\": null\n",
      "  },\n",
      "  \"VACATION #028\": {\n",
      "    \"start\": \"2025-10-02\",\n",
      "    \"end\": \"2025-10-05\",\n",
      "    \"duration\": 4,\n",
      "    \"values\": null\n",
      "  },\n",
      "  \"VACATION #030\": {\n",
      "    \"start\": \"2025-10-18\",\n",
      "    \"end\": \"2025-10-21\",\n",
      "    \"duration\": 4,\n",
      "    \"values\": null\n",
      "  },\n",
      "  \"VACATION #040\": {\n",
      "    \"start\": \"2025-12-25\",\n",
      "    \"end\": \"2025-12-28\",\n",
      "    \"duration\": 4,\n",
      "    \"values\": null\n",
      "  },\n",
      "  \"VACATION #041\": {\n",
      "    \"start\": \"2026-01-01\",\n",
      "    \"end\": \"2026-01-04\",\n",
      "    \"duration\": 4,\n",
      "    \"values\": null\n",
      "  },\n",
      "  \"VACATION #044\": {\n",
      "    \"start\": \"2026-01-24\",\n",
      "    \"end\": \"2026-01-26\",\n",
      "    \"duration\": 3,\n",
      "    \"values\": null\n",
      "  }\n",
      "}\n"
     ]
    }
   ],
   "source": [
    "print(json.dumps(lw[\"John Doe\"][\"subgroups\"], default = str, indent = 2)) # details - long weekends plans, with duration and start-end dates"
   ]
  }
 ],
 "metadata": {
  "kernelspec": {
   "display_name": "TensorFlow CPU (v2.12.0)",
   "language": "python",
   "name": "tensorflow"
  },
  "language_info": {
   "codemirror_mode": {
    "name": "ipython",
    "version": 3
   },
   "file_extension": ".py",
   "mimetype": "text/x-python",
   "name": "python",
   "nbconvert_exporter": "python",
   "pygments_lexer": "ipython3",
   "version": "3.10.9"
  }
 },
 "nbformat": 4,
 "nbformat_minor": 5
}
